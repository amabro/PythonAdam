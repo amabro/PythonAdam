{
  "nbformat": 4,
  "nbformat_minor": 0,
  "metadata": {
    "colab": {
      "name": "Untitled6.ipynb",
      "provenance": [],
      "authorship_tag": "ABX9TyO0OX7PkG1zuiyEdc8ImzhA",
      "include_colab_link": true
    },
    "kernelspec": {
      "name": "python3",
      "display_name": "Python 3"
    }
  },
  "cells": [
    {
      "cell_type": "markdown",
      "metadata": {
        "id": "view-in-github",
        "colab_type": "text"
      },
      "source": [
        "<a href=\"https://colab.research.google.com/github/amabro/PythonAdam/blob/master/LessontwoCondition.ipynb\" target=\"_parent\"><img src=\"https://colab.research.google.com/assets/colab-badge.svg\" alt=\"Open In Colab\"/></a>"
      ]
    },
    {
      "cell_type": "markdown",
      "metadata": {
        "id": "xQZ_PPbyr16r",
        "colab_type": "text"
      },
      "source": [
        "Statements\n",
        "\n"
      ]
    },
    {
      "cell_type": "markdown",
      "metadata": {
        "id": "8vCrNTI2sCQe",
        "colab_type": "text"
      },
      "source": [
        "Conditional tests\n",
        "\n",
        "equals: x == 72\n",
        "\n",
        "Not equal: x != 72\n",
        "\n",
        "greater than:x > 72\n",
        "\n",
        "greater than or equal to: x >=72\n",
        "\n",
        "less than: x < 72\n",
        "\n",
        "less than or equal to: x <= 72 "
      ]
    },
    {
      "cell_type": "code",
      "metadata": {
        "id": "9Rr5kFYNs97p",
        "colab_type": "code",
        "colab": {
          "base_uri": "https://localhost:8080/",
          "height": 34
        },
        "outputId": "4fcfac54-f99a-4490-d21e-b20c5b54f322"
      },
      "source": [
        "# Example\n",
        "x = 92\n",
        "print(x<=72)"
      ],
      "execution_count": 2,
      "outputs": [
        {
          "output_type": "stream",
          "text": [
            "False\n"
          ],
          "name": "stdout"
        }
      ]
    },
    {
      "cell_type": "code",
      "metadata": {
        "id": "imvHWBq2tURJ",
        "colab_type": "code",
        "colab": {}
      },
      "source": [
        ""
      ],
      "execution_count": 0,
      "outputs": []
    }
  ]
}