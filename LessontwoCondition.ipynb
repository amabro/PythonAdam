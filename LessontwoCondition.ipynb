{
  "nbformat": 4,
  "nbformat_minor": 0,
  "metadata": {
    "colab": {
      "name": "Untitled6.ipynb",
      "provenance": [],
      "authorship_tag": "ABX9TyOwdeYEUWrmOshOYOhi6JGr",
      "include_colab_link": true
    },
    "kernelspec": {
      "name": "python3",
      "display_name": "Python 3"
    }
  },
  "cells": [
    {
      "cell_type": "markdown",
      "metadata": {
        "id": "view-in-github",
        "colab_type": "text"
      },
      "source": [
        "<a href=\"https://colab.research.google.com/github/amabro/PythonAdam/blob/master/LessontwoCondition.ipynb\" target=\"_parent\"><img src=\"https://colab.research.google.com/assets/colab-badge.svg\" alt=\"Open In Colab\"/></a>"
      ]
    },
    {
      "cell_type": "markdown",
      "metadata": {
        "id": "xQZ_PPbyr16r",
        "colab_type": "text"
      },
      "source": [
        "Statements\n",
        "\n"
      ]
    },
    {
      "cell_type": "markdown",
      "metadata": {
        "id": "8vCrNTI2sCQe",
        "colab_type": "text"
      },
      "source": [
        "Conditional tests\n",
        "\n",
        "equals: x == 72\n",
        "\n",
        "Not equal: x != 72\n",
        "\n",
        "greater than:x > 72\n",
        "\n",
        "greater than or equal to: x >=72\n",
        "\n",
        "less than: x < 72\n",
        "\n",
        "less than or equal to: x <= 72 "
      ]
    },
    {
      "cell_type": "code",
      "metadata": {
        "id": "9Rr5kFYNs97p",
        "colab_type": "code",
        "outputId": "4fcfac54-f99a-4490-d21e-b20c5b54f322",
        "colab": {
          "base_uri": "https://localhost:8080/",
          "height": 34
        }
      },
      "source": [
        "# Example\n",
        "x = 92\n",
        "print(x<=72)"
      ],
      "execution_count": 0,
      "outputs": [
        {
          "output_type": "stream",
          "text": [
            "False\n"
          ],
          "name": "stdout"
        }
      ]
    },
    {
      "cell_type": "code",
      "metadata": {
        "id": "imvHWBq2tURJ",
        "colab_type": "code",
        "colab": {
          "base_uri": "https://localhost:8080/",
          "height": 34
        },
        "outputId": "ed8137f3-fd57-46c2-8f5c-3b6f1fcb3fc2"
      },
      "source": [
        "# A simple if test\n",
        "age = 15\n",
        "if age >= 17:\n",
        "  print(\"you can drive!\")\n",
        "else:\n",
        "  print(\"sorry, you can't drive!\")"
      ],
      "execution_count": 4,
      "outputs": [
        {
          "output_type": "stream",
          "text": [
            "sorry, you can't drive!\n"
          ],
          "name": "stdout"
        }
      ]
    },
    {
      "cell_type": "code",
      "metadata": {
        "id": "HV4bKUtKK-1N",
        "colab_type": "code",
        "colab": {
          "base_uri": "https://localhost:8080/",
          "height": 146
        },
        "outputId": "fdd5a608-0637-4d78-e591-96a6aca26588"
      },
      "source": [
        "# Use of user input\n",
        "age = int(\"What is your age in years, please?\")\n",
        "\n",
        "if age >= 18:\n",
        "  print(\"You can watch a movie\")\n",
        "elif age <=18 and age >=12:\n",
        "  print(\"You need to have someone with you above 18 to watch the movie\")\n",
        "else:\n",
        "  print(\"Sorry, you cant watch movie\")\n",
        "\n",
        "What is your age in years, please?14 \n",
        "You need to have some one with you above 18 to watch the movie"
      ],
      "execution_count": 7,
      "outputs": [
        {
          "output_type": "error",
          "ename": "SyntaxError",
          "evalue": "ignored",
          "traceback": [
            "\u001b[0;36m  File \u001b[0;32m\"<ipython-input-8-65b0f0b5feb4>\"\u001b[0;36m, line \u001b[0;32m10\u001b[0m\n\u001b[0;31m    What is your age in years, please?14\u001b[0m\n\u001b[0m                   ^\u001b[0m\n\u001b[0;31mSyntaxError\u001b[0m\u001b[0;31m:\u001b[0m invalid syntax\n"
          ]
        },
        {
          "output_type": "stream",
          "text": [
            "ERROR! Session/line number was not unique in database. History logging moved to new session 61\n"
          ],
          "name": "stdout"
        }
      ]
    },
    {
      "cell_type": "markdown",
      "metadata": {
        "id": "CVTrrYnzNBty",
        "colab_type": "text"
      },
      "source": [
        "**While Loop**In the while loop we can execute a set of statements as long as a condition is true"
      ]
    },
    {
      "cell_type": "code",
      "metadata": {
        "id": "0qtIFtwtNHFx",
        "colab_type": "code",
        "colab": {
          "base_uri": "https://localhost:8080/",
          "height": 85
        },
        "outputId": "5418c4ec-a9e3-4c53-f441-4902547d26eb"
      },
      "source": [
        "i = 1\n",
        "while i < 5:\n",
        "  print(i)\n",
        "  if i == 5:\n",
        "    break\n",
        "  i += 1"
      ],
      "execution_count": 10,
      "outputs": [
        {
          "output_type": "stream",
          "text": [
            "1\n",
            "2\n",
            "3\n",
            "4\n"
          ],
          "name": "stdout"
        }
      ]
    },
    {
      "cell_type": "code",
      "metadata": {
        "id": "xboUqFoSOBBs",
        "colab_type": "code",
        "colab": {
          "base_uri": "https://localhost:8080/",
          "height": 102
        },
        "outputId": "2c5490e2-a996-4924-c53b-7096cd1061ee"
      },
      "source": [
        "# With the continue statement we can stop the current iteration and continue with the next\n",
        "\n",
        "i = 0\n",
        "while i < 6:\n",
        "  i += 1\n",
        "  if i == 3:\n",
        "    continue\n",
        "  print(i)"
      ],
      "execution_count": 11,
      "outputs": [
        {
          "output_type": "stream",
          "text": [
            "1\n",
            "2\n",
            "4\n",
            "5\n",
            "6\n"
          ],
          "name": "stdout"
        }
      ]
    },
    {
      "cell_type": "markdown",
      "metadata": {
        "id": "bvdqTxW4OqZw",
        "colab_type": "text"
      },
      "source": [
        "For Loop\n",
        "\n",
        "A for loop is used for iterating over a sequence(that is either a list, a tuple, a dictionary, a set, or a string).\n",
        "With the for loop we can execute a set of statements, once for each item in a list, tuple, set etc.  "
      ]
    },
    {
      "cell_type": "code",
      "metadata": {
        "id": "qIC-9ebiPNzC",
        "colab_type": "code",
        "colab": {
          "base_uri": "https://localhost:8080/",
          "height": 119
        },
        "outputId": "ee7a1e4a-5af6-4f04-b331-13ea53effef2"
      },
      "source": [
        "cars = [\"bmw\", \"audi\", \"mercedes\", \"honda\", \"toyota\", \"kia\"]\n",
        "for x in cars:\n",
        "  print(x)"
      ],
      "execution_count": 12,
      "outputs": [
        {
          "output_type": "stream",
          "text": [
            "bmw\n",
            "audi\n",
            "mercedes\n",
            "honda\n",
            "toyota\n",
            "kia\n"
          ],
          "name": "stdout"
        }
      ]
    },
    {
      "cell_type": "code",
      "metadata": {
        "id": "PsB5_eVVP24w",
        "colab_type": "code",
        "colab": {
          "base_uri": "https://localhost:8080/",
          "height": 153
        },
        "outputId": "efc11bac-0795-4f29-8395-1c9dad24dd4b"
      },
      "source": [
        "# Looping through string\n",
        "\n",
        "for x in \"mercedes\":\n",
        "  print(x)"
      ],
      "execution_count": 13,
      "outputs": [
        {
          "output_type": "stream",
          "text": [
            "m\n",
            "e\n",
            "r\n",
            "c\n",
            "e\n",
            "d\n",
            "e\n",
            "s\n"
          ],
          "name": "stdout"
        }
      ]
    },
    {
      "cell_type": "code",
      "metadata": {
        "id": "WKU-krxZQUSG",
        "colab_type": "code",
        "colab": {
          "base_uri": "https://localhost:8080/",
          "height": 85
        },
        "outputId": "c9c76124-3cb6-4efd-b384-c6b62afc4534"
      },
      "source": [
        "# Break Statement\n",
        "\n",
        "Cars = [\"bmw\", \"audi\", \"mercedes\", \"honda\", \"toyota\", \"kia\"]\n",
        "for x in cars:\n",
        "  print(x)\n",
        "  if x == \"honda\":\n",
        "    break"
      ],
      "execution_count": 14,
      "outputs": [
        {
          "output_type": "stream",
          "text": [
            "bmw\n",
            "audi\n",
            "mercedes\n",
            "honda\n"
          ],
          "name": "stdout"
        }
      ]
    },
    {
      "cell_type": "code",
      "metadata": {
        "id": "NPPSME1QQ-Sv",
        "colab_type": "code",
        "colab": {
          "base_uri": "https://localhost:8080/",
          "height": 129
        },
        "outputId": "e122c6a7-531c-46e9-c0c2-252358f2137e"
      },
      "source": [
        "# Continue statement\n",
        "\n",
        "Cars = [\"bmw\", \"audi\", \"mercedes\", \"honda\", \"toyota\", \"kia\"]\n",
        "for x in cars:\n",
        "  if x == \"mercedes\":\n",
        "    continue\n",
        " print(x)\n",
        "\n"
      ],
      "execution_count": 16,
      "outputs": [
        {
          "output_type": "error",
          "ename": "IndentationError",
          "evalue": "ignored",
          "traceback": [
            "\u001b[0;36m  File \u001b[0;32m\"<ipython-input-17-8fc2f34015c9>\"\u001b[0;36m, line \u001b[0;32m6\u001b[0m\n\u001b[0;31m    print(x)\u001b[0m\n\u001b[0m            ^\u001b[0m\n\u001b[0;31mIndentationError\u001b[0m\u001b[0;31m:\u001b[0m unindent does not match any outer indentation level\n"
          ]
        }
      ]
    },
    {
      "cell_type": "code",
      "metadata": {
        "id": "6ZksH-iuR6aF",
        "colab_type": "code",
        "colab": {
          "base_uri": "https://localhost:8080/",
          "height": 136
        },
        "outputId": "393ea03b-d27d-4779-baed-f4ac5fb22165"
      },
      "source": [
        "# Range function\n",
        "for x in range(6):\n",
        "  print(x)"
      ],
      "execution_count": 15,
      "outputs": [
        {
          "output_type": "stream",
          "text": [
            "0\n",
            "1\n",
            "2\n",
            "3\n",
            "4\n",
            "5\n",
            "ERROR! Session/line number was not unique in database. History logging moved to new session 68\n"
          ],
          "name": "stdout"
        }
      ]
    },
    {
      "cell_type": "code",
      "metadata": {
        "id": "Id26ytSiShSS",
        "colab_type": "code",
        "colab": {
          "base_uri": "https://localhost:8080/",
          "height": 85
        },
        "outputId": "86d24080-fd68-49b9-d30a-edd436ae4c04"
      },
      "source": [
        "for x in range(3, 6):\n",
        " print(x)\n"
      ],
      "execution_count": 16,
      "outputs": [
        {
          "output_type": "stream",
          "text": [
            "3\n",
            "4\n",
            "5\n",
            "ERROR! Session/line number was not unique in database. History logging moved to new session 69\n"
          ],
          "name": "stdout"
        }
      ]
    },
    {
      "cell_type": "code",
      "metadata": {
        "id": "IZHnbfQZS4j4",
        "colab_type": "code",
        "colab": {}
      },
      "source": [
        "# Else in For Loop\n",
        "for x in range()\n",
        " print(x)\n",
        "else:\n",
        "  print(\"Finally finished\")"
      ],
      "execution_count": 0,
      "outputs": []
    },
    {
      "cell_type": "code",
      "metadata": {
        "id": "qGgUASZATJN0",
        "colab_type": "code",
        "colab": {
          "base_uri": "https://localhost:8080/",
          "height": 187
        },
        "outputId": "9744afda-b738-4bd2-c5cc-af292b8222cc"
      },
      "source": [
        "# Nested Loop\n",
        "\n",
        "Cars = [\"bmw\"]\n",
        "\n",
        "cars = [\"bmw\", \"audi\", \"mercedes\"]\n",
        "bikes = [\"yamaha\", \"Kawasaki\", \"ducati\"]\n",
        "\n",
        "for x in cars:\n",
        "  for y in bikes:\n",
        "    print(x, y)"
      ],
      "execution_count": 17,
      "outputs": [
        {
          "output_type": "stream",
          "text": [
            "bmw yamaha\n",
            "bmw Kawasaki\n",
            "bmw ducati\n",
            "audi yamaha\n",
            "audi Kawasaki\n",
            "audi ducati\n",
            "mercedes yamaha\n",
            "mercedes Kawasaki\n",
            "mercedes ducati\n",
            "ERROR! Session/line number was not unique in database. History logging moved to new session 70\n"
          ],
          "name": "stdout"
        }
      ]
    }
  ]
}