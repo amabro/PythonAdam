{
  "nbformat": 4,
  "nbformat_minor": 0,
  "metadata": {
    "colab": {
      "name": "Untitled5.ipynb",
      "provenance": [],
      "authorship_tag": "ABX9TyNfpupkzjNfLM3MZ+v+fbTb",
      "include_colab_link": true
    },
    "kernelspec": {
      "name": "python3",
      "display_name": "Python 3"
    }
  },
  "cells": [
    {
      "cell_type": "markdown",
      "metadata": {
        "id": "view-in-github",
        "colab_type": "text"
      },
      "source": [
        "<a href=\"https://colab.research.google.com/github/amabro/PythonAdam/blob/master/TheclassofAilessontwoSTRINGVARIABLELISTTUPLE.ipynb\" target=\"_parent\"><img src=\"https://colab.research.google.com/assets/colab-badge.svg\" alt=\"Open In Colab\"/></a>"
      ]
    },
    {
      "cell_type": "code",
      "metadata": {
        "id": "nv1L3Q4LUDmv",
        "colab_type": "code",
        "colab": {
          "base_uri": "https://localhost:8080/",
          "height": 34
        },
        "outputId": "6e2957a0-5ee6-419a-faee-f127bdd6becb"
      },
      "source": [
        "print(\"welcome to the class of AI\")"
      ],
      "execution_count": 3,
      "outputs": [
        {
          "output_type": "stream",
          "text": [
            "welcome to the class of AI\n"
          ],
          "name": "stdout"
        }
      ]
    },
    {
      "cell_type": "code",
      "metadata": {
        "id": "b1X3QsMlVvoa",
        "colab_type": "code",
        "colab": {
          "base_uri": "https://localhost:8080/",
          "height": 34
        },
        "outputId": "13c2e034-d77b-4d3c-9cc4-a92f9d00b35c"
      },
      "source": [
        "msg = \"we are learning python's basic commands\"\n",
        "print(msg)"
      ],
      "execution_count": 4,
      "outputs": [
        {
          "output_type": "stream",
          "text": [
            "we are learning python's basic commands\n"
          ],
          "name": "stdout"
        }
      ]
    },
    {
      "cell_type": "code",
      "metadata": {
        "id": "YEeAZQ8sWLih",
        "colab_type": "code",
        "colab": {
          "base_uri": "https://localhost:8080/",
          "height": 34
        },
        "outputId": "7f884e95-a9ee-4717-d2ec-f971d84876c9"
      },
      "source": [
        "first_msg = \"welcome to the class of AI.\"\n",
        "second_msg = \"AI is some times called machine intelligence\" \n",
        "\n",
        "final_msg = first_msg + second_msg\n",
        "print(final_msg)"
      ],
      "execution_count": 7,
      "outputs": [
        {
          "output_type": "stream",
          "text": [
            "welcome to the class of AI.AI is some times called machine intelligence\n"
          ],
          "name": "stdout"
        }
      ]
    },
    {
      "cell_type": "markdown",
      "metadata": {
        "id": "xYf2Si2HW440",
        "colab_type": "text"
      },
      "source": [
        "**List: Important topic**"
      ]
    },
    {
      "cell_type": "code",
      "metadata": {
        "id": "7X2-dVOlW8Y8",
        "colab_type": "code",
        "colab": {
          "base_uri": "https://localhost:8080/",
          "height": 34
        },
        "outputId": "48048375-eba4-4556-eeda-2f2c9595ee9f"
      },
      "source": [
        "cars = ['bmw', 'audi', 'toyota', 'tesla',]\n",
        "print(cars)"
      ],
      "execution_count": 8,
      "outputs": [
        {
          "output_type": "stream",
          "text": [
            "['bmw', 'audi', 'toyota', 'tesla']\n"
          ],
          "name": "stdout"
        }
      ]
    },
    {
      "cell_type": "code",
      "metadata": {
        "id": "Gopzf-QmeSEf",
        "colab_type": "code",
        "colab": {
          "base_uri": "https://localhost:8080/",
          "height": 34
        },
        "outputId": "c6faf0e9-ea4c-4438-aaa3-708fa61627fd"
      },
      "source": [
        "# Get the first item of the list\n",
        "cars[2]"
      ],
      "execution_count": 12,
      "outputs": [
        {
          "output_type": "execute_result",
          "data": {
            "text/plain": [
              "'toyota'"
            ]
          },
          "metadata": {
            "tags": []
          },
          "execution_count": 12
        }
      ]
    },
    {
      "cell_type": "code",
      "metadata": {
        "id": "9K-TBBVienM7",
        "colab_type": "code",
        "colab": {
          "base_uri": "https://localhost:8080/",
          "height": 34
        },
        "outputId": "45add2ae-1e6e-4a99-ce32-9fc84ca3181d"
      },
      "source": [
        "# Get the last item of the list\n",
        "cars[-1]"
      ],
      "execution_count": 17,
      "outputs": [
        {
          "output_type": "execute_result",
          "data": {
            "text/plain": [
              "'tesla'"
            ]
          },
          "metadata": {
            "tags": []
          },
          "execution_count": 17
        }
      ]
    },
    {
      "cell_type": "markdown",
      "metadata": {
        "id": "gJ7kP5SLfg15",
        "colab_type": "text"
      },
      "source": [
        "**Can use Looping method**"
      ]
    },
    {
      "cell_type": "code",
      "metadata": {
        "id": "w722O39hfk0S",
        "colab_type": "code",
        "colab": {
          "base_uri": "https://localhost:8080/",
          "height": 85
        },
        "outputId": "802221a3-3df4-4806-f0f4-b4d95bd1a038"
      },
      "source": [
        "# Looping through a list\n",
        "for car in cars:\n",
        "  print(car)"
      ],
      "execution_count": 20,
      "outputs": [
        {
          "output_type": "stream",
          "text": [
            "bmw\n",
            "audi\n",
            "toyota\n",
            "tesla\n"
          ],
          "name": "stdout"
        }
      ]
    },
    {
      "cell_type": "code",
      "metadata": {
        "id": "-6wwSTD-gGQB",
        "colab_type": "code",
        "colab": {
          "base_uri": "https://localhost:8080/",
          "height": 34
        },
        "outputId": "7a206d5e-8c98-4d63-af77-f23e852694aa"
      },
      "source": [
        "# Adding item to a list\n",
        "bikes = []\n",
        "print(bikes)"
      ],
      "execution_count": 21,
      "outputs": [
        {
          "output_type": "stream",
          "text": [
            "[]\n"
          ],
          "name": "stdout"
        }
      ]
    },
    {
      "cell_type": "code",
      "metadata": {
        "id": "9JOGWTQhgQ1f",
        "colab_type": "code",
        "colab": {
          "base_uri": "https://localhost:8080/",
          "height": 34
        },
        "outputId": "1174ba64-35e4-444f-92ba-ee57656e4e8f"
      },
      "source": [
        "bikes.append('Royal Enfield')\n",
        "bikes.append('Honda')\n",
        "print(bikes)"
      ],
      "execution_count": 22,
      "outputs": [
        {
          "output_type": "stream",
          "text": [
            "['Royal Enfield', 'Honda']\n"
          ],
          "name": "stdout"
        }
      ]
    },
    {
      "cell_type": "code",
      "metadata": {
        "id": "x41Z51Lpgr4i",
        "colab_type": "code",
        "colab": {
          "base_uri": "https://localhost:8080/",
          "height": 51
        },
        "outputId": "483e52b3-dcc5-4e53-94b0-8017176d8d76"
      },
      "source": [
        "bikes.append(['Yamaha', 'Kawasaki'])\n",
        "print(bikes)"
      ],
      "execution_count": 23,
      "outputs": [
        {
          "output_type": "stream",
          "text": [
            "['Royal Enfield', 'Honda', ['Yamaha', 'Kawasaki']]\n",
            "ERROR! Session/line number was not unique in database. History logging moved to new session 60\n"
          ],
          "name": "stdout"
        }
      ]
    },
    {
      "cell_type": "code",
      "metadata": {
        "id": "rkKx9rd8hUtQ",
        "colab_type": "code",
        "colab": {
          "base_uri": "https://localhost:8080/",
          "height": 34
        },
        "outputId": "25f1445d-b78c-4916-a14d-8b3e20b428c0"
      },
      "source": [
        "print(bikes[2][1])"
      ],
      "execution_count": 25,
      "outputs": [
        {
          "output_type": "stream",
          "text": [
            "Kawasaki\n"
          ],
          "name": "stdout"
        }
      ]
    },
    {
      "cell_type": "code",
      "metadata": {
        "id": "dYLzFJyVhs7H",
        "colab_type": "code",
        "colab": {
          "base_uri": "https://localhost:8080/",
          "height": 187
        },
        "outputId": "42cbfa57-82a9-4349-aa63-ed2cff2e55ec"
      },
      "source": [
        "# Making Numerical List\n",
        "power = []\n",
        "for x in range(1,11):\n",
        "  power.append(x**2)\n",
        "\n",
        "  print(power)"
      ],
      "execution_count": 26,
      "outputs": [
        {
          "output_type": "stream",
          "text": [
            "[1]\n",
            "[1, 4]\n",
            "[1, 4, 9]\n",
            "[1, 4, 9, 16]\n",
            "[1, 4, 9, 16, 25]\n",
            "[1, 4, 9, 16, 25, 36]\n",
            "[1, 4, 9, 16, 25, 36, 49]\n",
            "[1, 4, 9, 16, 25, 36, 49, 64]\n",
            "[1, 4, 9, 16, 25, 36, 49, 64, 81]\n",
            "[1, 4, 9, 16, 25, 36, 49, 64, 81, 100]\n"
          ],
          "name": "stdout"
        }
      ]
    },
    {
      "cell_type": "code",
      "metadata": {
        "id": "O-ZsIR3vjcP3",
        "colab_type": "code",
        "colab": {
          "base_uri": "https://localhost:8080/",
          "height": 34
        },
        "outputId": "f9acb36c-62c5-4376-c914-9e88e448d8aa"
      },
      "source": [
        "power = []\n",
        "power = [x**3 for x in range(1,15)]\n",
        "print(power)"
      ],
      "execution_count": 27,
      "outputs": [
        {
          "output_type": "stream",
          "text": [
            "[1, 8, 27, 64, 125, 216, 343, 512, 729, 1000, 1331, 1728, 2197, 2744]\n"
          ],
          "name": "stdout"
        }
      ]
    },
    {
      "cell_type": "code",
      "metadata": {
        "id": "tyN-SgJKkEzA",
        "colab_type": "code",
        "colab": {
          "base_uri": "https://localhost:8080/",
          "height": 34
        },
        "outputId": "d3a7c683-2c33-409e-93d9-336aecc0399c"
      },
      "source": [
        "# Slicing a list\n",
        "power[2:7]"
      ],
      "execution_count": 29,
      "outputs": [
        {
          "output_type": "execute_result",
          "data": {
            "text/plain": [
              "[27, 64, 125, 216, 343]"
            ]
          },
          "metadata": {
            "tags": []
          },
          "execution_count": 29
        }
      ]
    },
    {
      "cell_type": "code",
      "metadata": {
        "id": "41nPV9zzkdg8",
        "colab_type": "code",
        "colab": {
          "base_uri": "https://localhost:8080/",
          "height": 34
        },
        "outputId": "21d16ad4-0608-4054-9d81-289c70ba5e0e"
      },
      "source": [
        "# Copy a list\n",
        "power_copy = power[:]\n",
        "print(power_copy)"
      ],
      "execution_count": 30,
      "outputs": [
        {
          "output_type": "stream",
          "text": [
            "[1, 8, 27, 64, 125, 216, 343, 512, 729, 1000, 1331, 1728, 2197, 2744]\n"
          ],
          "name": "stdout"
        }
      ]
    },
    {
      "cell_type": "markdown",
      "metadata": {
        "id": "3FUHqU3Tk5cq",
        "colab_type": "text"
      },
      "source": [
        "**Tuples** "
      ]
    },
    {
      "cell_type": "markdown",
      "metadata": {
        "id": "zXoBEvLWlQB2",
        "colab_type": "text"
      },
      "source": [
        "Tuples are similar to list but the items in a tuple cannot be modified. You can however convert the tuple into a list and convert the list back into a tuple. Once a tuple is created, you cannot add items to it. Tuples are unchangeable. \n"
      ]
    },
    {
      "cell_type": "code",
      "metadata": {
        "id": "CAN514QxlhnG",
        "colab_type": "code",
        "colab": {
          "base_uri": "https://localhost:8080/",
          "height": 34
        },
        "outputId": "ca7f12a6-cd14-4ac1-b96e-4a4adfc9f7a8"
      },
      "source": [
        "dim = (2,3)\n",
        "print(dim)"
      ],
      "execution_count": 31,
      "outputs": [
        {
          "output_type": "stream",
          "text": [
            "(2, 3)\n"
          ],
          "name": "stdout"
        }
      ]
    },
    {
      "cell_type": "code",
      "metadata": {
        "id": "Ztugum-XlsSW",
        "colab_type": "code",
        "colab": {
          "base_uri": "https://localhost:8080/",
          "height": 34
        },
        "outputId": "abf7be58-9e54-409c-f894-720515a23ebd"
      },
      "source": [
        "thistuple = ('apple', 'banana', 'cherry')\n",
        "print(thistuple[0])"
      ],
      "execution_count": 34,
      "outputs": [
        {
          "output_type": "stream",
          "text": [
            "apple\n"
          ],
          "name": "stdout"
        }
      ]
    },
    {
      "cell_type": "markdown",
      "metadata": {
        "id": "KLcH12nGmw_0",
        "colab_type": "text"
      },
      "source": [
        "Note to self - no square brackets"
      ]
    },
    {
      "cell_type": "code",
      "metadata": {
        "id": "Bz7YTkqinweZ",
        "colab_type": "code",
        "colab": {}
      },
      "source": [
        "# Now lets change tuple to list\n",
        "x = list(thistuple)"
      ],
      "execution_count": 0,
      "outputs": []
    },
    {
      "cell_type": "code",
      "metadata": {
        "id": "tSJsSgeEoM-6",
        "colab_type": "code",
        "colab": {
          "base_uri": "https://localhost:8080/",
          "height": 34
        },
        "outputId": "82f8e671-1d1b-4382-da58-7971e6dd3fe9"
      },
      "source": [
        "print(x)"
      ],
      "execution_count": 37,
      "outputs": [
        {
          "output_type": "stream",
          "text": [
            "['apple', 'banana', 'cherry']\n"
          ],
          "name": "stdout"
        }
      ]
    },
    {
      "cell_type": "code",
      "metadata": {
        "id": "UPjGDe9VoVC3",
        "colab_type": "code",
        "colab": {
          "base_uri": "https://localhost:8080/",
          "height": 34
        },
        "outputId": "80f71701-705b-41cf-d9f9-e445b8e82bc9"
      },
      "source": [
        "x[0] = 'mango'\n",
        "print(x)"
      ],
      "execution_count": 39,
      "outputs": [
        {
          "output_type": "stream",
          "text": [
            "['mango', 'mango', 'cherry']\n"
          ],
          "name": "stdout"
        }
      ]
    }
  ]
}