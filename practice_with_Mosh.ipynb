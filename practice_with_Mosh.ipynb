{
  "nbformat": 4,
  "nbformat_minor": 0,
  "metadata": {
    "colab": {
      "name": "Copy of Untitled18.ipynb",
      "provenance": [],
      "authorship_tag": "ABX9TyPpHpeR10tMJ4qUBmpoEQ7U",
      "include_colab_link": true
    },
    "kernelspec": {
      "name": "python3",
      "display_name": "Python 3"
    }
  },
  "cells": [
    {
      "cell_type": "markdown",
      "metadata": {
        "id": "view-in-github",
        "colab_type": "text"
      },
      "source": [
        "<a href=\"https://colab.research.google.com/github/amabro/PythonAdam/blob/master/practice_with_Mosh.ipynb\" target=\"_parent\"><img src=\"https://colab.research.google.com/assets/colab-badge.svg\" alt=\"Open In Colab\"/></a>"
      ]
    },
    {
      "cell_type": "markdown",
      "metadata": {
        "id": "eG-ulN8Je6Vc",
        "colab_type": "text"
      },
      "source": [
        "Useful methods in python"
      ]
    },
    {
      "cell_type": "markdown",
      "metadata": {
        "id": "Ud_qBTTkdr1u",
        "colab_type": "text"
      },
      "source": [
        "Accessing items"
      ]
    },
    {
      "cell_type": "code",
      "metadata": {
        "id": "2T3lvhBjdpeY",
        "colab_type": "code",
        "outputId": "ed5e3587-778d-4b7e-98c8-6f5fd9a25fce",
        "colab": {
          "base_uri": "https://localhost:8080/",
          "height": 52
        }
      },
      "source": [
        "letters = [\"a\", \"b\", \"c\", \"d\"]\n",
        "letters[0] = \"A\"\n",
        "print(letters[0:3])\n",
        "print(letters[::2])"
      ],
      "execution_count": 0,
      "outputs": [
        {
          "output_type": "stream",
          "text": [
            "['A', 'b', 'c']\n",
            "['A', 'c']\n"
          ],
          "name": "stdout"
        }
      ]
    },
    {
      "cell_type": "code",
      "metadata": {
        "id": "oNn_xYxiemCy",
        "colab_type": "code",
        "outputId": "b27a52e4-1ac3-47f1-86f3-4469d27af63f",
        "colab": {
          "base_uri": "https://localhost:8080/",
          "height": 35
        }
      },
      "source": [
        "numbers = list(range(20))\n",
        "print(numbers[::-1])"
      ],
      "execution_count": 0,
      "outputs": [
        {
          "output_type": "stream",
          "text": [
            "[19, 18, 17, 16, 15, 14, 13, 12, 11, 10, 9, 8, 7, 6, 5, 4, 3, 2, 1, 0]\n"
          ],
          "name": "stdout"
        }
      ]
    },
    {
      "cell_type": "code",
      "metadata": {
        "id": "ey015zLPe5aZ",
        "colab_type": "code",
        "outputId": "59502ddb-6985-4148-99ad-cdcf74415fd4",
        "colab": {
          "base_uri": "https://localhost:8080/",
          "height": 52
        }
      },
      "source": [
        "numbers = [1, 2, 3, 4]\n",
        "first, *other, last = numbers\n",
        "print(first, last)\n",
        "print(other)\n",
        "\n"
      ],
      "execution_count": 0,
      "outputs": [
        {
          "output_type": "stream",
          "text": [
            "1 4\n",
            "[2, 3]\n"
          ],
          "name": "stdout"
        }
      ]
    },
    {
      "cell_type": "code",
      "metadata": {
        "id": "janEyrQEgGDu",
        "colab_type": "code",
        "outputId": "5b144e99-bbc6-4a85-e605-22b9d8739671",
        "colab": {
          "base_uri": "https://localhost:8080/",
          "height": 69
        }
      },
      "source": [
        "letters = [\"a\", \"b\", \"c\"]\n",
        "for letter in enumerate(letters):\n",
        "  print(letter)\n"
      ],
      "execution_count": 0,
      "outputs": [
        {
          "output_type": "stream",
          "text": [
            "(0, 'a')\n",
            "(1, 'b')\n",
            "(2, 'c')\n"
          ],
          "name": "stdout"
        }
      ]
    }
  ]
}