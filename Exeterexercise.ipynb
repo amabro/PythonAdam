{
  "nbformat": 4,
  "nbformat_minor": 0,
  "metadata": {
    "colab": {
      "name": "Exeterexercise.ipynb",
      "provenance": [],
      "authorship_tag": "ABX9TyPq0ZbD1qY0Bb/9EKkZrrIB",
      "include_colab_link": true
    },
    "kernelspec": {
      "name": "python3",
      "display_name": "Python 3"
    }
  },
  "cells": [
    {
      "cell_type": "markdown",
      "metadata": {
        "id": "view-in-github",
        "colab_type": "text"
      },
      "source": [
        "<a href=\"https://colab.research.google.com/github/amabro/PythonAdam/blob/master/Exeterexercise.ipynb\" target=\"_parent\"><img src=\"https://colab.research.google.com/assets/colab-badge.svg\" alt=\"Open In Colab\"/></a>"
      ]
    },
    {
      "cell_type": "code",
      "metadata": {
        "id": "ucZ7mzrvAqDF",
        "colab_type": "code",
        "outputId": "13834403-0d10-46d5-9d19-dbfceadd27e8",
        "colab": {
          "base_uri": "https://localhost:8080/",
          "height": 34
        }
      },
      "source": [
        "# This is my first list\n",
        "x = [3, 5, 6, 5]\n",
        "\n",
        "# I am going the print the sum of the list \n",
        "print(sum(x))\n"
      ],
      "execution_count": 0,
      "outputs": [
        {
          "output_type": "stream",
          "text": [
            "19\n"
          ],
          "name": "stdout"
        }
      ]
    },
    {
      "cell_type": "code",
      "metadata": {
        "id": "vfCvgmzDB6hP",
        "colab_type": "code",
        "outputId": "f7de98b1-77ae-46db-d7cf-79d34825fca6",
        "colab": {
          "base_uri": "https://localhost:8080/",
          "height": 34
        }
      },
      "source": [
        "x = 3.7\n",
        "\n",
        "print(\"The answer is:\" + str(x))"
      ],
      "execution_count": 0,
      "outputs": [
        {
          "output_type": "stream",
          "text": [
            "The answer is:3.7\n"
          ],
          "name": "stdout"
        }
      ]
    },
    {
      "cell_type": "markdown",
      "metadata": {
        "id": "q56DdgbDC14D",
        "colab_type": "text"
      },
      "source": [
        "The value in the x is a float value. To print the message we need to convert the x value to string and concatinate two string and then print it as a combined string. "
      ]
    },
    {
      "cell_type": "markdown",
      "metadata": {
        "id": "OrRoymKhX0O2",
        "colab_type": "text"
      },
      "source": [
        "The first line creates a numerical variable called x with value 3.7. The second line displays a string formed by concatenating the string \"the answer is\" with the string form of variable x"
      ]
    },
    {
      "cell_type": "code",
      "metadata": {
        "id": "M6g996NcXqdd",
        "colab_type": "code",
        "colab": {
          "base_uri": "https://localhost:8080/",
          "height": 129
        },
        "outputId": "7cc29e61-f828-47b8-ba60-d9b7349f533a"
      },
      "source": [
        "# = raw_input(\"enter a number greater than zero: \")\n",
        "x = float(x)\n",
        "while x<=0:\n",
        "  x = raw_input(\" Enter a number greater than zero: \")\n",
        "  x = float(x)\n",
        "print \"You entered %f\" % (x)\n",
        "print \"The square value is %f\" % (x*x)"
      ],
      "execution_count": 0,
      "outputs": [
        {
          "output_type": "error",
          "ename": "SyntaxError",
          "evalue": "ignored",
          "traceback": [
            "\u001b[0;36m  File \u001b[0;32m\"<ipython-input-1-033f590d75b8>\"\u001b[0;36m, line \u001b[0;32m5\u001b[0m\n\u001b[0;31m    print \"You entered %f\" % (x)\u001b[0m\n\u001b[0m                         ^\u001b[0m\n\u001b[0;31mSyntaxError\u001b[0m\u001b[0;31m:\u001b[0m invalid syntax\n"
          ]
        }
      ]
    }
  ]
}