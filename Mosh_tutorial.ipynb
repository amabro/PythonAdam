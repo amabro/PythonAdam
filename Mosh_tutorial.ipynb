{
  "nbformat": 4,
  "nbformat_minor": 0,
  "metadata": {
    "colab": {
      "name": "Untitled9.ipynb",
      "provenance": [],
      "authorship_tag": "ABX9TyPg2ho5XkFLvvvgcNB1AFsn",
      "include_colab_link": true
    },
    "kernelspec": {
      "name": "python3",
      "display_name": "Python 3"
    }
  },
  "cells": [
    {
      "cell_type": "markdown",
      "metadata": {
        "id": "view-in-github",
        "colab_type": "text"
      },
      "source": [
        "<a href=\"https://colab.research.google.com/github/amabro/PythonAdam/blob/master/Mosh_tutorial.ipynb\" target=\"_parent\"><img src=\"https://colab.research.google.com/assets/colab-badge.svg\" alt=\"Open In Colab\"/></a>"
      ]
    },
    {
      "cell_type": "markdown",
      "metadata": {
        "id": "tbbzgqpl9Z8M",
        "colab_type": "text"
      },
      "source": [
        "Python online video"
      ]
    },
    {
      "cell_type": "code",
      "metadata": {
        "id": "OUatquQ6_jQk",
        "colab_type": "code",
        "colab": {
          "base_uri": "https://localhost:8080/",
          "height": 35
        },
        "outputId": "2aab8125-3c61-49d5-87aa-02bea0f107f2"
      },
      "source": [
        "print(\"*\" * 10)"
      ],
      "execution_count": 2,
      "outputs": [
        {
          "output_type": "stream",
          "text": [
            "**********\n"
          ],
          "name": "stdout"
        }
      ]
    },
    {
      "cell_type": "markdown",
      "metadata": {
        "id": "D7xZLO3U_y5c",
        "colab_type": "text"
      },
      "source": [
        "gives an expression"
      ]
    },
    {
      "cell_type": "code",
      "metadata": {
        "id": "MPdgq7T6_1ZQ",
        "colab_type": "code",
        "colab": {
          "base_uri": "https://localhost:8080/",
          "height": 35
        },
        "outputId": "09b14c8f-3adf-4cee-f32b-8ff7f28e594a"
      },
      "source": [
        "price = 10\n",
        "rating = 4.9\n",
        "name = \"Adam\"\n",
        "is_published = False\n",
        "print(price)"
      ],
      "execution_count": 18,
      "outputs": [
        {
          "output_type": "stream",
          "text": [
            "10\n"
          ],
          "name": "stdout"
        }
      ]
    },
    {
      "cell_type": "code",
      "metadata": {
        "id": "1bD8NDqCFr1O",
        "colab_type": "code",
        "colab": {
          "base_uri": "https://localhost:8080/",
          "height": 54
        },
        "outputId": "04b0b0ae-d434-48a5-a22b-92ecb4466ccb"
      },
      "source": [
        "name = input(\"what is your name? \")\n",
        "print(\"Hi \" + name)"
      ],
      "execution_count": 26,
      "outputs": [
        {
          "output_type": "stream",
          "text": [
            "what is your name? Adam\n",
            "Hi Adam\n"
          ],
          "name": "stdout"
        }
      ]
    },
    {
      "cell_type": "code",
      "metadata": {
        "id": "oO6J64KSLF6n",
        "colab_type": "code",
        "colab": {}
      },
      "source": [
        "Name = 'Adam'\n",
        "age = '20'\n",
        "is_new = True"
      ],
      "execution_count": 0,
      "outputs": []
    },
    {
      "cell_type": "markdown",
      "metadata": {
        "id": "kjhSaBgoHlpn",
        "colab_type": "text"
      },
      "source": [
        "two questions: persons name and favourite colour, then print, hi to the person and he likes Green"
      ]
    },
    {
      "cell_type": "code",
      "metadata": {
        "id": "JVU0j3QqH0FM",
        "colab_type": "code",
        "colab": {
          "base_uri": "https://localhost:8080/",
          "height": 90
        },
        "outputId": "f11407bb-54dc-41f8-edff-03eef58e227d"
      },
      "source": [
        "name = input(\"what is your name? \")\n",
        "print(\"Hi \" + name)\n",
        "favourite_colour = input(\"what is you favourite colour? \")\n",
        "print(name + \" likes \" + favourite_colour) \n"
      ],
      "execution_count": 35,
      "outputs": [
        {
          "output_type": "stream",
          "text": [
            "what is your name? Adam\n",
            "Hi Adam\n",
            "what is you favourite colour? Green\n",
            "Adam likes Green\n"
          ],
          "name": "stdout"
        }
      ]
    },
    {
      "cell_type": "markdown",
      "metadata": {
        "id": "Ckcn7bDbLlk0",
        "colab_type": "text"
      },
      "source": [
        "Continue with Mosh tomorrow from 22 minutes"
      ]
    }
  ]
}