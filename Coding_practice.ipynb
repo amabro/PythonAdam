{
  "nbformat": 4,
  "nbformat_minor": 0,
  "metadata": {
    "colab": {
      "name": "Untitled7.ipynb",
      "provenance": [],
      "authorship_tag": "ABX9TyM5juMI0XCQOr7/jHMMMr/1",
      "include_colab_link": true
    },
    "kernelspec": {
      "name": "python3",
      "display_name": "Python 3"
    }
  },
  "cells": [
    {
      "cell_type": "markdown",
      "metadata": {
        "id": "view-in-github",
        "colab_type": "text"
      },
      "source": [
        "<a href=\"https://colab.research.google.com/github/amabro/PythonAdam/blob/master/Coding_practice.ipynb\" target=\"_parent\"><img src=\"https://colab.research.google.com/assets/colab-badge.svg\" alt=\"Open In Colab\"/></a>"
      ]
    },
    {
      "cell_type": "markdown",
      "metadata": {
        "id": "Oa7hv6y575Hl",
        "colab_type": "text"
      },
      "source": [
        "Practice in kaggle"
      ]
    },
    {
      "cell_type": "code",
      "metadata": {
        "id": "vWE91tuLXIdL",
        "colab_type": "code",
        "colab": {
          "base_uri": "https://localhost:8080/",
          "height": 68
        },
        "outputId": "9ac94d67-6446-4f42-8fe9-0ca4a42f02b6"
      },
      "source": [
        "spam_amount = 0\n",
        "print(spam_amount)\n",
        "\n",
        "# Odering spam, egg, spam, spam, bacon and spam (4 more servings of spam)\n",
        "spam_amount = spam_amount + 4\n",
        "\n",
        "if spam_amount > 0:\n",
        "  print(\"But I dont want any spam!\")\n",
        "\n",
        "viking_song = \"spam \" * spam_amount\n",
        "print(viking_song)"
      ],
      "execution_count": 1,
      "outputs": [
        {
          "output_type": "stream",
          "text": [
            "0\n",
            "But I dont want any spam!\n",
            "spam spam spam spam \n"
          ],
          "name": "stdout"
        }
      ]
    },
    {
      "cell_type": "markdown",
      "metadata": {
        "id": "rgFiwFZ88--R",
        "colab_type": "text"
      },
      "source": [
        "= is the assignment operator"
      ]
    },
    {
      "cell_type": "code",
      "metadata": {
        "id": "btQNREEh9HfG",
        "colab_type": "code",
        "colab": {
          "base_uri": "https://localhost:8080/",
          "height": 34
        },
        "outputId": "fdcf66a8-61fd-44dc-b79e-c73ec50de98c"
      },
      "source": [
        "spam_amount = 0\n",
        "print(spam_amount)"
      ],
      "execution_count": 3,
      "outputs": [
        {
          "output_type": "stream",
          "text": [
            "0\n"
          ],
          "name": "stdout"
        }
      ]
    }
  ]
}